{
 "cells": [
  {
   "cell_type": "markdown",
   "id": "84be1027",
   "metadata": {},
   "source": [
    "***GENERATED CODE FOR 29mayformulatest PIPELINE.***"
   ]
  },
  {
   "cell_type": "markdown",
   "id": "ef4e1a10",
   "metadata": {},
   "source": [
    "***DON'T EDIT THIS CODE.***"
   ]
  },
  {
   "cell_type": "markdown",
   "id": "63e26b91",
   "metadata": {},
   "source": [
    "***CONNECTOR FUNCTIONS TO READ DATA.***"
   ]
  },
  {
   "cell_type": "code",
   "execution_count": null,
   "id": "f1b35f41",
   "metadata": {},
   "outputs": [],
   "source": [
    "import os\n",
    "import datetime\n",
    "import logging\n",
    "import warnings\n",
    "warnings.filterwarnings('ignore')\n",
    "logging.basicConfig(format='%(levelname)s:%(message)s', level=logging.INFO)\n",
    "\n",
    "\n",
    "class HDFSConnector:\n",
    "\n",
    "    def fetch(spark, config):\n",
    "        ################### INPUT HADOOP HOST PORT TO CONNECT WITH ###############################\n",
    "        hdfs_server = str(os.environ['HDFS_SERVER'])\n",
    "        hdfs_port = int(os.environ['HDFS_PORT'])\n",
    "        df = spark.read.options(header='true', inferschema='true').csv(\n",
    "            f\"hdfs://{hdfs_server}:{hdfs_port}{eval(config)['url']}\", header='true')\n",
    "        display(df.limit(2).toPandas())\n",
    "        return df\n",
    "\n",
    "    def put(df, spark, config):\n",
    "        return df.write.format('csv').options(header='true' if eval(config)[\"is_header\"] == \"Use Header Line\" else 'false',\n",
    "                                              delimiter=eval(config)[\"delimiter\"]).save((\"%s %s\") % (datetime.datetime.now().strftime(\"%Y-%m-%d %H.%M.%S\")+\"_\", eval(config)['url']))\n"
   ]
  },
  {
   "cell_type": "markdown",
   "id": "96e9a672",
   "metadata": {},
   "source": [
    "***OPERATION FUNCTIONS***"
   ]
  },
  {
   "cell_type": "code",
   "execution_count": null,
   "id": "e501847a",
   "metadata": {},
   "outputs": [],
   "source": [
    "class FormulaOperation:\n",
    "\n",
    "    def run(inStages, inStagesData, stageId, sparkSession, stageAttribs):\n",
    "\n",
    "        formula = \"\"\n",
    "        if stageAttribs[\"use_expression\"]:\n",
    "            for expression in stageAttribs[\"expression\"]:\n",
    "                formula += \"%s %s %s %s\" % (expression[\"combinator\"],\n",
    "                                            expression[\"value1\"],\n",
    "                                            expression[\"operator\"],\n",
    "                                            expression[\"value2\"])\n",
    "        else:\n",
    "            formula = stageAttribs[\"formula\"]\n",
    "\n",
    "        output_field = stageAttribs[\"output_field\"]\n",
    "\n",
    "        if output_field[\"absolute\"]:\n",
    "            formula = \"ABS(%s) as %s\" % (formula, output_field[\"field\"])\n",
    "        else:\n",
    "            formula = \"(%s) as %s\" % (formula, output_field[\"field\"])\n",
    "\n",
    "        inStagesData[inStages[0]].createOrReplaceTempView(\"view%s\" % (stageId))\n",
    "        return sparkSession.sql(\"SELECT *, %s FROM view\" % (formula,\n",
    "                                                            \"view%s\" % (stageId)))\n"
   ]
  },
  {
   "cell_type": "markdown",
   "id": "43b7b9b8",
   "metadata": {},
   "source": [
    "***CONNECTOR FUNCTIONS TO WRITE DATA.***"
   ]
  },
  {
   "cell_type": "code",
   "execution_count": null,
   "id": "fa828e59",
   "metadata": {},
   "outputs": [],
   "source": [
    "import datetime\n",
    "import requests\n",
    "import datetime\n",
    "import logging\n",
    "import warnings\n",
    "warnings.filterwarnings('ignore')\n",
    "logging.basicConfig(format='%(levelname)s:%(message)s', level=logging.INFO)\n",
    "\n",
    "\n",
    "class NumtraConnector:\n",
    "\n",
    "    def put(inStages, inStagesData, stageId, spark, config):\n",
    "        path = eval(config)['server_url']\n",
    "        baseType = eval(config)['baseType']\n",
    "        results_url = eval(config)['results_url']\n",
    "        server = eval(config)['server']\n",
    "        originalfile = eval(config)['orignalKey']\n",
    "        eval(config)['pathOnly']\n",
    "        filename = eval(config)['filename']\n",
    "        eval(config)['ser']\n",
    "        eval(config)['user']\n",
    "        eval(config)['password']\n",
    "        eval(config)['authSource']\n",
    "        eval(config)['user_id']\n",
    "        eval(config)['parent_id']\n",
    "        eval(config)['project_id']\n",
    "        time = str(int(datetime.datetime.now().timestamp()))\n",
    "\n",
    "        inStagesData[inStages[0]]\n",
    "\n",
    "        print(path)\n",
    "        print(baseType)\n",
    "        print(results_url)\n",
    "        print(server)\n",
    "        print(originalfile)\n",
    "        print(filename)\n",
    "\n",
    "        args = {\n",
    "            'url': path,\n",
    "            'baseType': baseType,\n",
    "            'originalfile': originalfile,\n",
    "            'filename': time + filename\n",
    "        }\n",
    "\n",
    "        response = requests.post(results_url, args)\n",
    "        return response\n"
   ]
  },
  {
   "cell_type": "markdown",
   "id": "e6178ac2",
   "metadata": {},
   "source": [
    "***READING DATAFRAME***"
   ]
  },
  {
   "cell_type": "code",
   "execution_count": null,
   "id": "17213abd",
   "metadata": {},
   "outputs": [],
   "source": [
    "############## CREATE SPARK SESSION ############################ ENTER YOUR SPARK MASTER IP AND PORT TO CONNECT TO SERVER ################\n",
    "from pyspark.sql import SparkSession\n",
    "spark = SparkSession.builder.master('local[1]').getOrCreate()\n",
    "#%run 29mayformulatestHooks.ipynb\n",
    "try:\n",
    "\t#sourcePreExecutionHook()\n",
    "\n",
    "\tformulatetddpp = HDFSConnector.fetch(spark, \"{'url': '/FileStore/platform/uploadedSourceFiles/part-00000-acfd7d2c-c9a5-4627-a2ce-4f8589634328-c000.csv', 'filename': '1716271975formulaTest.csv', 'delimiter': ',', 'file_type': 'Delimeted', 'dbfs_token': '', 'dbfs_domain': '', 'FilePath': '/OperatorsTest/formulaTest.csv', 'viewFileName': 'formulaTest.csv', 'is_header': 'Use Header Line', 'baseType': 'hdfs', 'server_url': '/nexusMax/NexusMaxPlatform/uploads/platform/', 'results_url': 'http://dnm.bfirst.ai:44040/api/read/hdfs'}\")\n",
    "\n",
    "except Exception as ex: \n",
    "\tlogging.error(ex)\n",
    "#spark.stop()\n"
   ]
  },
  {
   "cell_type": "markdown",
   "id": "63243582",
   "metadata": {},
   "source": [
    "***PERFORMING OPERATIONS***"
   ]
  },
  {
   "cell_type": "code",
   "execution_count": null,
   "id": "a920a8d8",
   "metadata": {},
   "outputs": [],
   "source": [
    "#%run 29mayformulatestHooks.ipynb\n",
    "try:\n",
    "\tformula = FormulaOperation.run([\"6657025e7bda2cdf975e1991\"],{\"6657025e7bda2cdf975e1991\": formulatetddpp}, \"665702647bda2cdf975e1995\", spark, \"{'dataType': 'real', 'dataTypes': ['String', 'real'], 'SelectedColumns': ['SeniorCitizen', 'tenure'], 'functionData': {'functionName': 'formula', 'applyOn': [{'columnName': 'SeniorCitizen', 'type': 'real', 'disable': False}, {'columnName': 'tenure', 'type': 'real', 'disable': False}], 'functionsData': [{'operand1': 'SeniorCitizen', 'operator': 'div', 'operand2': 'tenure', 'outputColumn': 'newColumn', 'useNext': 0, 'column': [{'Columndata': {'columnName': 'SeniorCitizen', 'type': 'real', 'disable': False}}, {'Columndata': {'columnName': 'tenure', 'type': 'real', 'disable': False}}, {'Columndata': ''}], 'newColumnName': 'SeniorTenure'}]}, 'allColumns': [{'columnName': 'customerID', 'type': 'String', 'disable': True}, {'columnName': 'gender', 'type': 'String', 'disable': True}, {'columnName': 'SeniorCitizen', 'type': 'real', 'disable': False}, {'columnName': 'Partner', 'type': 'String', 'disable': True}, {'columnName': 'Dependents', 'type': 'String', 'disable': True}, {'columnName': 'tenure', 'type': 'real', 'disable': False}, {'columnName': 'PhoneService', 'type': 'String', 'disable': True}, {'columnName': 'MultipleLines', 'type': 'String', 'disable': True}, {'columnName': 'InternetService', 'type': 'String', 'disable': True}, {'columnName': 'OnlineSecurity', 'type': 'String', 'disable': True}, {'columnName': 'OnlineBackup', 'type': 'String', 'disable': True}, {'columnName': 'DeviceProtection', 'type': 'String', 'disable': True}, {'columnName': 'TechSupport', 'type': 'String', 'disable': True}, {'columnName': 'StreamingTV', 'type': 'String', 'disable': True}, {'columnName': 'StreamingMovies', 'type': 'String', 'disable': True}, {'columnName': 'Contract', 'type': 'String', 'disable': True}, {'columnName': 'PaperlessBilling', 'type': 'String', 'disable': True}, {'columnName': 'PaymentMethod', 'type': 'String', 'disable': True}, {'columnName': 'MonthlyCharges', 'type': 'real', 'disable': False}, {'columnName': 'TotalCharges', 'type': 'real', 'disable': False}, {'columnName': 'Churn', 'type': 'String', 'disable': True}, {'columnName': 'newColumn', 'type': 'real', 'disable': False}], 'url': '/FileStore/platform/uploadedSourceFiles/part-00000-acfd7d2c-c9a5-4627-a2ce-4f8589634328-c000.csv', 'SelectedColumnsData': [{'columnName': 'SeniorCitizen', 'type': 'real', 'disable': False}, {'columnName': 'tenure', 'type': 'real', 'disable': False}], 'newColumnName': 'SeniorTenure', 'server_url': '/nexusMax/NexusMaxPlatform/uploads/platform/'}\")\n",
    "\n",
    "except Exception as ex: \n",
    "\tlogging.error(ex)\n"
   ]
  },
  {
   "cell_type": "markdown",
   "id": "bb57bd15",
   "metadata": {},
   "source": [
    "***WRITING DATAFRAME***"
   ]
  },
  {
   "cell_type": "code",
   "execution_count": null,
   "id": "b38fef80",
   "metadata": {},
   "outputs": [],
   "source": [
    "#%run 29mayformulatestHooks.ipynb\n",
    "try:\n",
    "\t#sinkPreExecutionHook()\n",
    "\n",
    "\toperatorstestoutput = NumtraConnector.fetch(spark, \"{'samplefile': '/FileStore/platform/sampleData/6657025e7bda2cdf975e1991/part-00000-0a339bea-ca0e-4aec-9734-6048a203318c-c000.csv', 'samplecount': 30, 'originalcount': 30, 'orignalKey': '/FileStore/platform/uploadedSourceFiles/part-00000-acfd7d2c-c9a5-4627-a2ce-4f8589634328-c000.csv', 'pathOnly': '/OperatorsTest', 'project_id': '66279e60b6d893f4c9a9ec43', 'parent_id': '66279e60b6d893f4c9a9ec43', 'original_schema': [{'checked': True, 'inherited': True, 'is_categorical': False, 'bad_values': '', 'nullable': 'true', '_id': '665719027bda2cdf975e2184', 'field': 'customerID', 'alias': 'customerID', 'type': 'String', 'position': '0'}, {'checked': True, 'inherited': True, 'is_categorical': False, 'bad_values': '', 'nullable': 'true', '_id': '665719027bda2cdf975e2185', 'field': 'gender', 'alias': 'gender', 'type': 'String', 'position': '1'}, {'checked': True, 'inherited': True, 'is_categorical': False, 'bad_values': '', 'nullable': 'true', '_id': '665719027bda2cdf975e2186', 'field': 'SeniorCitizen', 'alias': 'SeniorCitizen', 'type': 'real', 'position': '2'}, {'checked': True, 'inherited': True, 'is_categorical': False, 'bad_values': '', 'nullable': 'true', '_id': '665719027bda2cdf975e2187', 'field': 'Partner', 'alias': 'Partner', 'type': 'String', 'position': '3'}, {'checked': True, 'inherited': True, 'is_categorical': False, 'bad_values': '', 'nullable': 'true', '_id': '665719027bda2cdf975e2188', 'field': 'Dependents', 'alias': 'Dependents', 'type': 'String', 'position': '4'}, {'checked': True, 'inherited': True, 'is_categorical': False, 'bad_values': '', 'nullable': 'true', '_id': '665719027bda2cdf975e2189', 'field': 'tenure', 'alias': 'tenure', 'type': 'real', 'position': '5'}, {'checked': True, 'inherited': True, 'is_categorical': False, 'bad_values': '', 'nullable': 'true', '_id': '665719027bda2cdf975e218a', 'field': 'PhoneService', 'alias': 'PhoneService', 'type': 'String', 'position': '6'}, {'checked': True, 'inherited': True, 'is_categorical': False, 'bad_values': '', 'nullable': 'true', '_id': '665719027bda2cdf975e218b', 'field': 'MultipleLines', 'alias': 'MultipleLines', 'type': 'String', 'position': '7'}, {'checked': True, 'inherited': True, 'is_categorical': False, 'bad_values': '', 'nullable': 'true', '_id': '665719027bda2cdf975e218c', 'field': 'InternetService', 'alias': 'InternetService', 'type': 'String', 'position': '8'}, {'checked': True, 'inherited': True, 'is_categorical': False, 'bad_values': '', 'nullable': 'true', '_id': '665719027bda2cdf975e218d', 'field': 'OnlineSecurity', 'alias': 'OnlineSecurity', 'type': 'String', 'position': '9'}, {'checked': True, 'inherited': True, 'is_categorical': False, 'bad_values': '', 'nullable': 'true', '_id': '665719027bda2cdf975e218e', 'field': 'OnlineBackup', 'alias': 'OnlineBackup', 'type': 'String', 'position': '10'}, {'checked': True, 'inherited': True, 'is_categorical': False, 'bad_values': '', 'nullable': 'true', '_id': '665719027bda2cdf975e218f', 'field': 'DeviceProtection', 'alias': 'DeviceProtection', 'type': 'String', 'position': '11'}, {'checked': True, 'inherited': True, 'is_categorical': False, 'bad_values': '', 'nullable': 'true', '_id': '665719027bda2cdf975e2190', 'field': 'TechSupport', 'alias': 'TechSupport', 'type': 'String', 'position': '12'}, {'checked': True, 'inherited': True, 'is_categorical': False, 'bad_values': '', 'nullable': 'true', '_id': '665719027bda2cdf975e2191', 'field': 'StreamingTV', 'alias': 'StreamingTV', 'type': 'String', 'position': '13'}, {'checked': True, 'inherited': True, 'is_categorical': False, 'bad_values': '', 'nullable': 'true', '_id': '665719027bda2cdf975e2192', 'field': 'StreamingMovies', 'alias': 'StreamingMovies', 'type': 'String', 'position': '14'}, {'checked': True, 'inherited': True, 'is_categorical': False, 'bad_values': '', 'nullable': 'true', '_id': '665719027bda2cdf975e2193', 'field': 'Contract', 'alias': 'Contract', 'type': 'String', 'position': '15'}, {'checked': True, 'inherited': True, 'is_categorical': False, 'bad_values': '', 'nullable': 'true', '_id': '665719027bda2cdf975e2194', 'field': 'PaperlessBilling', 'alias': 'PaperlessBilling', 'type': 'String', 'position': '16'}, {'checked': True, 'inherited': True, 'is_categorical': False, 'bad_values': '', 'nullable': 'true', '_id': '665719027bda2cdf975e2195', 'field': 'PaymentMethod', 'alias': 'PaymentMethod', 'type': 'String', 'position': '17'}, {'checked': True, 'inherited': True, 'is_categorical': False, 'bad_values': '', 'nullable': 'true', '_id': '665719027bda2cdf975e2196', 'field': 'MonthlyCharges', 'alias': 'MonthlyCharges', 'type': 'real', 'position': '18'}, {'checked': True, 'inherited': True, 'is_categorical': False, 'bad_values': '', 'nullable': 'true', '_id': '665719027bda2cdf975e2197', 'field': 'TotalCharges', 'alias': 'TotalCharges', 'type': 'real', 'position': '19'}, {'checked': True, 'inherited': True, 'is_categorical': False, 'bad_values': '', 'nullable': 'true', '_id': '665719027bda2cdf975e2198', 'field': 'Churn', 'alias': 'Churn', 'type': 'String', 'position': '20'}, {'checked': True, 'inherited': True, 'is_categorical': False, 'bad_values': '', 'nullable': 'true', '_id': '665719027bda2cdf975e2199', 'field': 'newColumn', 'alias': 'newColumn', 'type': 'real', 'position': '21'}], 'actual_schema': [{'checked': True, 'inherited': True, 'is_categorical': False, 'bad_values': '', 'nullable': 'true', '_id': '665719027bda2cdf975e216e', 'field': 'customerID', 'alias': 'customerID', 'type': 'String', 'position': '0'}, {'checked': True, 'inherited': True, 'is_categorical': False, 'bad_values': '', 'nullable': 'true', '_id': '665719027bda2cdf975e216f', 'field': 'gender', 'alias': 'gender', 'type': 'String', 'position': '1'}, {'checked': True, 'inherited': True, 'is_categorical': False, 'bad_values': '', 'nullable': 'true', '_id': '665719027bda2cdf975e2170', 'field': 'SeniorCitizen', 'alias': 'SeniorCitizen', 'type': 'real', 'position': '2'}, {'checked': True, 'inherited': True, 'is_categorical': False, 'bad_values': '', 'nullable': 'true', '_id': '665719027bda2cdf975e2171', 'field': 'Partner', 'alias': 'Partner', 'type': 'String', 'position': '3'}, {'checked': True, 'inherited': True, 'is_categorical': False, 'bad_values': '', 'nullable': 'true', '_id': '665719027bda2cdf975e2172', 'field': 'Dependents', 'alias': 'Dependents', 'type': 'String', 'position': '4'}, {'checked': True, 'inherited': True, 'is_categorical': False, 'bad_values': '', 'nullable': 'true', '_id': '665719027bda2cdf975e2173', 'field': 'tenure', 'alias': 'tenure', 'type': 'real', 'position': '5'}, {'checked': True, 'inherited': True, 'is_categorical': False, 'bad_values': '', 'nullable': 'true', '_id': '665719027bda2cdf975e2174', 'field': 'PhoneService', 'alias': 'PhoneService', 'type': 'String', 'position': '6'}, {'checked': True, 'inherited': True, 'is_categorical': False, 'bad_values': '', 'nullable': 'true', '_id': '665719027bda2cdf975e2175', 'field': 'MultipleLines', 'alias': 'MultipleLines', 'type': 'String', 'position': '7'}, {'checked': True, 'inherited': True, 'is_categorical': False, 'bad_values': '', 'nullable': 'true', '_id': '665719027bda2cdf975e2176', 'field': 'InternetService', 'alias': 'InternetService', 'type': 'String', 'position': '8'}, {'checked': True, 'inherited': True, 'is_categorical': False, 'bad_values': '', 'nullable': 'true', '_id': '665719027bda2cdf975e2177', 'field': 'OnlineSecurity', 'alias': 'OnlineSecurity', 'type': 'String', 'position': '9'}, {'checked': True, 'inherited': True, 'is_categorical': False, 'bad_values': '', 'nullable': 'true', '_id': '665719027bda2cdf975e2178', 'field': 'OnlineBackup', 'alias': 'OnlineBackup', 'type': 'String', 'position': '10'}, {'checked': True, 'inherited': True, 'is_categorical': False, 'bad_values': '', 'nullable': 'true', '_id': '665719027bda2cdf975e2179', 'field': 'DeviceProtection', 'alias': 'DeviceProtection', 'type': 'String', 'position': '11'}, {'checked': True, 'inherited': True, 'is_categorical': False, 'bad_values': '', 'nullable': 'true', '_id': '665719027bda2cdf975e217a', 'field': 'TechSupport', 'alias': 'TechSupport', 'type': 'String', 'position': '12'}, {'checked': True, 'inherited': True, 'is_categorical': False, 'bad_values': '', 'nullable': 'true', '_id': '665719027bda2cdf975e217b', 'field': 'StreamingTV', 'alias': 'StreamingTV', 'type': 'String', 'position': '13'}, {'checked': True, 'inherited': True, 'is_categorical': False, 'bad_values': '', 'nullable': 'true', '_id': '665719027bda2cdf975e217c', 'field': 'StreamingMovies', 'alias': 'StreamingMovies', 'type': 'String', 'position': '14'}, {'checked': True, 'inherited': True, 'is_categorical': False, 'bad_values': '', 'nullable': 'true', '_id': '665719027bda2cdf975e217d', 'field': 'Contract', 'alias': 'Contract', 'type': 'String', 'position': '15'}, {'checked': True, 'inherited': True, 'is_categorical': False, 'bad_values': '', 'nullable': 'true', '_id': '665719027bda2cdf975e217e', 'field': 'PaperlessBilling', 'alias': 'PaperlessBilling', 'type': 'String', 'position': '16'}, {'checked': True, 'inherited': True, 'is_categorical': False, 'bad_values': '', 'nullable': 'true', '_id': '665719027bda2cdf975e217f', 'field': 'PaymentMethod', 'alias': 'PaymentMethod', 'type': 'String', 'position': '17'}, {'checked': True, 'inherited': True, 'is_categorical': False, 'bad_values': '', 'nullable': 'true', '_id': '665719027bda2cdf975e2180', 'field': 'MonthlyCharges', 'alias': 'MonthlyCharges', 'type': 'real', 'position': '18'}, {'checked': True, 'inherited': True, 'is_categorical': False, 'bad_values': '', 'nullable': 'true', '_id': '665719027bda2cdf975e2181', 'field': 'TotalCharges', 'alias': 'TotalCharges', 'type': 'real', 'position': '19'}, {'checked': True, 'inherited': True, 'is_categorical': False, 'bad_values': '', 'nullable': 'true', '_id': '665719027bda2cdf975e2182', 'field': 'Churn', 'alias': 'Churn', 'type': 'String', 'position': '20'}, {'checked': True, 'inherited': True, 'is_categorical': False, 'bad_values': '', 'nullable': 'true', '_id': '665719027bda2cdf975e2183', 'field': 'newColumn', 'alias': 'newColumn', 'type': 'real', 'position': '21'}], 'server': 'https://dnm.bfirst.ai:443', 'server_url': '/nexusMax/NexusMaxPlatform/uploads/platform/', 'delimiter': ',', 'file_type': 'Delimeted', 'filename': 'Formulanewnametest.csv', 'token': '', 'domain': '', 'is_header': 'Use Header Line', 'url': '/FileStore/platform/uploadedSourceFiles/part-00000-fcf5209b-2f2f-4825-aa9e-15f622cfef3a-c000.csv', 'results_url': 'http://dnm.bfirst.ai:44040/api/read/hdfs'}\")\n",
    "\n",
    "except Exception as ex: \n",
    "\tlogging.error(ex)\n"
   ]
  }
 ],
 "metadata": {},
 "nbformat": 4,
 "nbformat_minor": 5
}
